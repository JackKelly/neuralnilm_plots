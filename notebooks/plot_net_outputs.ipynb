{
 "cells": [
  {
   "cell_type": "code",
   "execution_count": 1,
   "metadata": {
    "collapsed": true
   },
   "outputs": [],
   "source": [
    "from __future__ import print_function, division\n",
    "import nilmtk\n",
    "import matplotlib.pyplot as plt\n",
    "import matplotlib.dates as mdates\n",
    "from matplotlib import ticker\n",
    "import numpy as np"
   ]
  },
  {
   "cell_type": "code",
   "execution_count": 91,
   "metadata": {
    "collapsed": true
   },
   "outputs": [],
   "source": [
    "from lasagne.layers import (InputLayer, DenseLayer, ReshapeLayer,\n",
    "                            DimshuffleLayer, Conv1DLayer)\n",
    "from lasagne.nonlinearities import rectify, tanh\n",
    "\n",
    "from neuralnilm.data.loadactivations import load_nilmtk_activations\n",
    "from neuralnilm.data.syntheticaggregatesource import SyntheticAggregateSource\n",
    "from neuralnilm.data.realaggregatesource import RealAggregateSource\n",
    "from neuralnilm.data.stridesource import StrideSource\n",
    "from neuralnilm.data.datapipeline import DataPipeline\n",
    "from neuralnilm.data.processing import DivideBy, IndependentlyCenter\n",
    "from neuralnilm.net import Net, build_net\n",
    "from neuralnilm.trainer import Trainer\n",
    "from neuralnilm.metrics import Metrics\n",
    "from neuralnilm.utils import select_windows, filter_activations, configure_logger\n",
    "from neuralnilm.layers import BLSTMLayer"
   ]
  },
  {
   "cell_type": "code",
   "execution_count": 3,
   "metadata": {
    "collapsed": true
   },
   "outputs": [],
   "source": [
    "configure_logger()"
   ]
  },
  {
   "cell_type": "code",
   "execution_count": 36,
   "metadata": {
    "collapsed": true
   },
   "outputs": [],
   "source": [
    "NILMTK_FILENAME = '/data/mine/vadeec/merged/ukdale.h5'\n",
    "SAMPLE_PERIOD = 6\n",
    "STRIDE = 16\n",
    "APPLIANCES = [\n",
    "    'kettle', 'microwave', 'washing machine', 'dish washer', 'fridge']\n",
    "WINDOWS = {\n",
    "    'train': {\n",
    "        1: (\"2013-04-12\", \"2013-06-01\")\n",
    "    },\n",
    "    'unseen_activations_of_seen_appliances': {\n",
    "        1: (\"2014-12-16\", \"2015-01-02\")\n",
    "    },\n",
    "    'unseen_appliances': {\n",
    "        5: (\"2014-09-01\", None)\n",
    "    }\n",
    "}"
   ]
  },
  {
   "cell_type": "code",
   "execution_count": 37,
   "metadata": {
    "collapsed": false
   },
   "outputs": [],
   "source": [
    "def get_pipeline(target_appliance, activations):\n",
    "    num_seq_per_batch = 64\n",
    "    if target_appliance == 'kettle':\n",
    "        seq_length = 128\n",
    "        max_appliance_power = 3100\n",
    "    elif target_appliance == 'microwave':\n",
    "        seq_length = 288\n",
    "        max_appliance_power = 3000\n",
    "    elif target_appliance == 'washing machine':\n",
    "        seq_length = 1024\n",
    "        max_appliance_power = 2500\n",
    "    elif target_appliance == 'fridge':\n",
    "        seq_length = 512\n",
    "        max_appliance_power = 300\n",
    "    elif target_appliance == 'dish washer':\n",
    "        seq_length = 1024 + 512\n",
    "        max_appliance_power = 2500\n",
    "\n",
    "    real_agg_source = RealAggregateSource(\n",
    "        activations=activations,\n",
    "        target_appliance=target_appliance,\n",
    "        seq_length=seq_length,\n",
    "        filename=NILMTK_FILENAME,\n",
    "        windows=WINDOWS,\n",
    "        sample_period=SAMPLE_PERIOD\n",
    "    )\n",
    "\n",
    "    input_std = 374.43884277\n",
    "    pipeline = DataPipeline(\n",
    "        [real_agg_source],\n",
    "        num_seq_per_batch=num_seq_per_batch,\n",
    "        input_processing=[DivideBy(input_std), IndependentlyCenter()],\n",
    "        target_processing=[DivideBy(max_appliance_power)]\n",
    "    )\n",
    "\n",
    "    return pipeline"
   ]
  },
  {
   "cell_type": "code",
   "execution_count": 90,
   "metadata": {
    "collapsed": true
   },
   "outputs": [],
   "source": [
    "def get_params_filename(appliance, arch):\n",
    "    if arch == 'rnn':\n",
    "        experiment = 'e566'\n",
    "    else:\n",
    "        experiment = 'e567'\n",
    "    full_exp_name = experiment + '_' + appliance + '_' + arch\n",
    "    PATH = '/storage/experiments/neuralnilm/figures/'\n",
    "    return PATH + full_exp_name + '/' + full_exp_name + '.hdf5'"
   ]
  },
  {
   "cell_type": "code",
   "execution_count": 17,
   "metadata": {
    "collapsed": true
   },
   "outputs": [],
   "source": [
    "def get_ae(batch, appliance):\n",
    "    NUM_FILTERS = 8\n",
    "    input_shape = batch.input.shape\n",
    "    target_shape = input_shape\n",
    "    seq_length = input_shape[1]\n",
    "    output_layer = build_net(\n",
    "        input_shape=input_shape,\n",
    "        layers=[\n",
    "            \n",
    "            {\n",
    "                'type': DimshuffleLayer,\n",
    "                'pattern': (0, 2, 1)  # (batch, features, time)\n",
    "            },\n",
    "            {\n",
    "                'type': Conv1DLayer,  # convolve over the time axis\n",
    "                'num_filters': NUM_FILTERS,\n",
    "                'filter_size': 4,\n",
    "                'stride': 1,\n",
    "                'nonlinearity': None,\n",
    "                'pad': 'valid'\n",
    "            },\n",
    "            {\n",
    "                'type': DimshuffleLayer,\n",
    "                'pattern': (0, 2, 1)  # back to (batch, time, features)\n",
    "            },\n",
    "            {\n",
    "                'type': DenseLayer,\n",
    "                'num_units': (seq_length - 3) * NUM_FILTERS,\n",
    "                'nonlinearity': rectify\n",
    "            },\n",
    "            {\n",
    "                'type': DenseLayer,\n",
    "                'num_units': 128,\n",
    "                'nonlinearity': rectify\n",
    "            },            \n",
    "            {\n",
    "                'type': DenseLayer,\n",
    "                'num_units': (seq_length - 3) * NUM_FILTERS,\n",
    "                'nonlinearity': rectify\n",
    "            },            \n",
    "            {\n",
    "                'type': ReshapeLayer,\n",
    "                'shape': (-1, (seq_length - 3), NUM_FILTERS)\n",
    "            },\n",
    "            {\n",
    "                'type': DimshuffleLayer,\n",
    "                'pattern': (0, 2, 1)  # (batch, features, time)\n",
    "            },\n",
    "            {   # DeConv\n",
    "                'type': Conv1DLayer,\n",
    "                'num_filters': 1,\n",
    "                'filter_size': 4,\n",
    "                'stride': 1,\n",
    "                'nonlinearity': None,\n",
    "                'pad': 'full'\n",
    "            },\n",
    "            {\n",
    "                'type': DimshuffleLayer,\n",
    "                'pattern': (0, 2, 1)  # back to (batch, time, features)\n",
    "            }\n",
    "        ]\n",
    "    )\n",
    "\n",
    "    net = Net(output_layer)\n",
    "    net.load_params(get_params_filename(appliance=appliance, arch='ae'), 100000)\n",
    "    return net"
   ]
  },
  {
   "cell_type": "code",
   "execution_count": 100,
   "metadata": {
    "collapsed": true
   },
   "outputs": [],
   "source": [
    "def get_rnn(batch, appliance):\n",
    "    input_shape = batch.input.shape\n",
    "    target_shape = input_shape\n",
    "    seq_length = input_shape[1]\n",
    "    output_layer = build_net(\n",
    "        input_shape=input_shape,\n",
    "        layers=[\n",
    "            {\n",
    "                'type': DimshuffleLayer,\n",
    "                'pattern': (0, 2, 1)  # (batch, features, time)\n",
    "            },\n",
    "            {\n",
    "                'type': Conv1DLayer,  # convolve over the time axis\n",
    "                'num_filters': 16,\n",
    "                'filter_size': 4,\n",
    "                'stride': 1,\n",
    "                'nonlinearity': None,\n",
    "                'pad': 'same'\n",
    "            },\n",
    "            {\n",
    "                'type': DimshuffleLayer,\n",
    "                'pattern': (0, 2, 1)  # back to (batch, time, features)\n",
    "            },\n",
    "            {\n",
    "                'type': BLSTMLayer,\n",
    "                'num_units': 128,\n",
    "                'merge_mode': 'concatenate',\n",
    "                'grad_clipping': 10.0,\n",
    "                'gradient_steps': 500\n",
    "            },\n",
    "            {\n",
    "                'type': BLSTMLayer,\n",
    "                'num_units': 256,\n",
    "                'merge_mode': 'concatenate',\n",
    "                'grad_clipping': 10.0,\n",
    "                'gradient_steps': 500\n",
    "            },\n",
    "            {\n",
    "                'type': ReshapeLayer,\n",
    "                'shape': (input_shape[0] * input_shape[1], 512)\n",
    "            },\n",
    "            {\n",
    "                'type': DenseLayer,\n",
    "                'num_units': 128,\n",
    "                'nonlinearity': tanh\n",
    "            },\n",
    "            {\n",
    "                'type': DenseLayer,\n",
    "                'num_units': 1,\n",
    "                'nonlinearity': None\n",
    "            },\n",
    "            {\n",
    "                'type': ReshapeLayer,\n",
    "                'shape': target_shape\n",
    "            }\n",
    "        ]\n",
    "    )\n",
    "\n",
    "    net = Net(output_layer)\n",
    "    net.load_params(get_params_filename(appliance=appliance, arch='rnn'), 10000)\n",
    "    return net"
   ]
  },
  {
   "cell_type": "code",
   "execution_count": 38,
   "metadata": {
    "collapsed": false
   },
   "outputs": [
    {
     "name": "stderr",
     "output_type": "stream",
     "text": [
      "INFO:neuralnilm.data.loadactivations:Loading NILMTK activations...\n",
      "INFO:neuralnilm.data.loadactivations:Loading kettle for UK-DALE_building_1...\n",
      "INFO:neuralnilm.data.loadactivations:Loaded 214 kettle activations from UK-DALE_building_1.\n",
      "INFO:neuralnilm.data.loadactivations:Loading microwave for UK-DALE_building_1...\n",
      "INFO:neuralnilm.data.loadactivations:Loaded 180 microwave activations from UK-DALE_building_1.\n",
      "INFO:neuralnilm.data.loadactivations:Loading washing machine for UK-DALE_building_1...\n",
      "INFO:neuralnilm.data.loadactivations:Loaded 32 washing machine activations from UK-DALE_building_1.\n",
      "INFO:neuralnilm.data.loadactivations:Loading dish washer for UK-DALE_building_1...\n",
      "INFO:neuralnilm.data.loadactivations:Loaded 13 dish washer activations from UK-DALE_building_1.\n",
      "INFO:neuralnilm.data.loadactivations:Loading fridge for UK-DALE_building_1...\n",
      "INFO:neuralnilm.data.loadactivations:Loaded 1246 fridge activations from UK-DALE_building_1.\n",
      "INFO:neuralnilm.data.loadactivations:Loading kettle for UK-DALE_building_5...\n",
      "INFO:neuralnilm.data.loadactivations:Loaded 19 kettle activations from UK-DALE_building_5.\n",
      "INFO:neuralnilm.data.loadactivations:Loading microwave for UK-DALE_building_5...\n",
      "INFO:neuralnilm.data.loadactivations:Loaded 29 microwave activations from UK-DALE_building_5.\n",
      "INFO:neuralnilm.data.loadactivations:Loading washing machine for UK-DALE_building_5...\n",
      "INFO:neuralnilm.data.loadactivations:Loaded 58 washing machine activations from UK-DALE_building_5.\n",
      "INFO:neuralnilm.data.loadactivations:Loading dish washer for UK-DALE_building_5...\n",
      "INFO:neuralnilm.data.loadactivations:Loaded 23 dish washer activations from UK-DALE_building_5.\n",
      "INFO:neuralnilm.data.loadactivations:Loading fridge for UK-DALE_building_5...\n",
      "INFO:neuralnilm.data.loadactivations:Loaded 1496 fridge activations from UK-DALE_building_5.\n",
      "INFO:neuralnilm.data.loadactivations:Loading kettle for UK-DALE_building_1...\n",
      "INFO:neuralnilm.data.loadactivations:Loaded 67 kettle activations from UK-DALE_building_1.\n",
      "INFO:neuralnilm.data.loadactivations:Loading microwave for UK-DALE_building_1...\n",
      "INFO:neuralnilm.data.loadactivations:Loaded 119 microwave activations from UK-DALE_building_1.\n",
      "INFO:neuralnilm.data.loadactivations:Loading washing machine for UK-DALE_building_1...\n",
      "INFO:neuralnilm.data.loadactivations:Loaded 14 washing machine activations from UK-DALE_building_1.\n",
      "INFO:neuralnilm.data.loadactivations:Loading dish washer for UK-DALE_building_1...\n",
      "INFO:neuralnilm.data.loadactivations:Loaded 5 dish washer activations from UK-DALE_building_1.\n",
      "INFO:neuralnilm.data.loadactivations:Loading fridge for UK-DALE_building_1...\n",
      "INFO:neuralnilm.data.loadactivations:Loaded 392 fridge activations from UK-DALE_building_1.\n",
      "INFO:neuralnilm.data.loadactivations:Done loading NILMTK activations.\n"
     ]
    }
   ],
   "source": [
    "activations = load_nilmtk_activations(\n",
    "    appliances=APPLIANCES,\n",
    "    filename=NILMTK_FILENAME,\n",
    "    sample_period=SAMPLE_PERIOD,\n",
    "    windows=WINDOWS\n",
    ")"
   ]
  },
  {
   "cell_type": "code",
   "execution_count": 39,
   "metadata": {
    "collapsed": false
   },
   "outputs": [
    {
     "name": "stderr",
     "output_type": "stream",
     "text": [
      "INFO:neuralnilm.data.source:------------- INITIALISING RealAggregateSource --------------\n",
      "INFO:neuralnilm.data.realaggregatesource:Loading NILMTK mains...\n",
      "INFO:neuralnilm.data.realaggregatesource:Loading mains for UK-DALE_building_1...\n",
      "INFO:neuralnilm.data.realaggregatesource:Loaded mains data from building UK-DALE_building_1 for fold train from 2013-04-12 00:00:00+01:00 to 2013-05-31 23:59:54+01:00.\n",
      "INFO:neuralnilm.data.realaggregatesource:Loading mains for UK-DALE_building_5...\n",
      "INFO:neuralnilm.data.realaggregatesource:Loaded mains data from building UK-DALE_building_5 for fold unseen_appliances from 2014-09-01 00:00:00+01:00 to 2014-11-13 20:35:24+00:00.\n",
      "INFO:neuralnilm.data.realaggregatesource:Loading mains for UK-DALE_building_1...\n",
      "INFO:neuralnilm.data.realaggregatesource:Loaded mains data from building UK-DALE_building_1 for fold unseen_activations_of_seen_appliances from 2014-12-16 00:00:00+00:00 to 2015-01-01 23:59:54+00:00.\n",
      "INFO:neuralnilm.data.realaggregatesource:Done loading NILMTK mains data.\n",
      "INFO:neuralnilm.data.realaggregatesource:Removing 5 activations from fold 'train' building 'UK-DALE_building_1' because there was not enough mains data for these activations. This leaves 1241 activations.\n",
      "INFO:neuralnilm.data.realaggregatesource:Removing 3 activations from fold 'unseen_appliances' building 'UK-DALE_building_5' because there was not enough mains data for these activations. This leaves 1493 activations.\n",
      "INFO:neuralnilm.data.realaggregatesource:Found 177 sections without target for train UK-DALE_building_1.\n",
      "INFO:neuralnilm.data.realaggregatesource:Found 101 sections without target for unseen_activations_of_seen_appliances UK-DALE_building_1.\n",
      "INFO:neuralnilm.data.realaggregatesource:Found 22 sections without target for unseen_appliances UK-DALE_building_5.\n"
     ]
    }
   ],
   "source": [
    "APPLIANCE = 'fridge'\n",
    "pipeline = get_pipeline(APPLIANCE, activations)"
   ]
  },
  {
   "cell_type": "code",
   "execution_count": 12,
   "metadata": {
    "collapsed": true
   },
   "outputs": [],
   "source": [
    "batch = pipeline.get_batch()"
   ]
  },
  {
   "cell_type": "code",
   "execution_count": 18,
   "metadata": {
    "collapsed": false
   },
   "outputs": [
    {
     "name": "stderr",
     "output_type": "stream",
     "text": [
      "INFO:neuralnilm.net:Loading params from /storage/experiments/neuralnilm/figures/e567_fridge_ae/e567_fridge_ae.hdf5...\n",
      "INFO:neuralnilm.net:Done loading params from /storage/experiments/neuralnilm/figures/e567_fridge_ae/e567_fridge_ae.hdf5.\n"
     ]
    }
   ],
   "source": [
    "net = get_ae(batch, APPLIANCE)"
   ]
  },
  {
   "cell_type": "code",
   "execution_count": 40,
   "metadata": {
    "collapsed": true
   },
   "outputs": [],
   "source": [
    "batch = pipeline.get_batch(fold='unseen_activations_of_seen_appliances')"
   ]
  },
  {
   "cell_type": "code",
   "execution_count": 41,
   "metadata": {
    "collapsed": false
   },
   "outputs": [],
   "source": [
    "output = net.deterministic_output_func(batch.after_processing.input)"
   ]
  },
  {
   "cell_type": "code",
   "execution_count": 101,
   "metadata": {
    "collapsed": false
   },
   "outputs": [
    {
     "name": "stderr",
     "output_type": "stream",
     "text": [
      "INFO:neuralnilm.net:Loading params from /storage/experiments/neuralnilm/figures/e566_fridge_rnn/e566_fridge_rnn.hdf5...\n",
      "INFO:neuralnilm.net:Done loading params from /storage/experiments/neuralnilm/figures/e566_fridge_rnn/e566_fridge_rnn.hdf5.\n"
     ]
    }
   ],
   "source": [
    "rnn = get_rnn(batch, APPLIANCE)"
   ]
  },
  {
   "cell_type": "code",
   "execution_count": 103,
   "metadata": {
    "collapsed": false
   },
   "outputs": [
    {
     "name": "stderr",
     "output_type": "stream",
     "text": [
      "INFO:neuralnilm.net:Compiling deterministic output function...\n",
      "/home/dk3810/workspace/python/Theano/theano/scan_module/scan.py:1019: Warning: In the strict mode, all neccessary shared variables must be passed as a part of non_sequences\n",
      "  'must be passed as a part of non_sequences', Warning)\n",
      "/home/dk3810/workspace/python/Theano/theano/gof/cmodule.py:324: RuntimeWarning: numpy.ndarray size changed, may indicate binary incompatibility\n",
      "  rval = __import__(module_name, {}, {}, [module_name])\n",
      "INFO:neuralnilm.net:Done compiling deterministic output function.\n"
     ]
    }
   ],
   "source": [
    "rnn_output = rnn.deterministic_output_func(batch.after_processing.input)"
   ]
  },
  {
   "cell_type": "code",
   "execution_count": 156,
   "metadata": {
    "collapsed": false
   },
   "outputs": [],
   "source": [
    "SEQ_I = 11\n",
    "# 11, 18 (defrost), 30, 32 (very impressive) are good. \n",
    "# 27 is good false positive.  48 is good for AE, not for RNN\n",
    "# 54 is nice clear activation, good for both nets\n",
    "fig, axes = plt.subplots(2, sharex=True)\n",
    "axes[0].plot(output[SEQ_I, :, 0], label='AE')\n",
    "axes[0].plot(rnn_output[SEQ_I, :, 0], label='RNN')\n",
    "axes[0].plot(batch.target[SEQ_I, :, 0], label='Target')\n",
    "axes[0].legend()\n",
    "axes[1].plot(batch.input[SEQ_I, :, 0])\n",
    "plt.show()"
   ]
  },
  {
   "cell_type": "code",
   "execution_count": 157,
   "metadata": {
    "collapsed": true
   },
   "outputs": [],
   "source": [
    "np.save('fridge_input.npy', batch.input)"
   ]
  },
  {
   "cell_type": "code",
   "execution_count": 158,
   "metadata": {
    "collapsed": true
   },
   "outputs": [],
   "source": [
    "np.save('fridge_target.npy', batch.target)"
   ]
  },
  {
   "cell_type": "code",
   "execution_count": null,
   "metadata": {
    "collapsed": true
   },
   "outputs": [],
   "source": []
  }
 ],
 "metadata": {
  "kernelspec": {
   "display_name": "Python 2",
   "language": "python",
   "name": "python2"
  },
  "language_info": {
   "codemirror_mode": {
    "name": "ipython",
    "version": 2
   },
   "file_extension": ".py",
   "mimetype": "text/x-python",
   "name": "python",
   "nbconvert_exporter": "python",
   "pygments_lexer": "ipython2",
   "version": "2.7.9"
  }
 },
 "nbformat": 4,
 "nbformat_minor": 0
}
