{
 "cells": [
  {
   "cell_type": "code",
   "execution_count": 1,
   "metadata": {
    "collapsed": true
   },
   "outputs": [],
   "source": [
    "from __future__ import print_function, division\n",
    "import nilmtk\n",
    "import matplotlib.pyplot as plt\n",
    "import matplotlib.dates as mdates\n",
    "from matplotlib import ticker\n",
    "import numpy as np"
   ]
  },
  {
   "cell_type": "code",
   "execution_count": null,
   "metadata": {
    "collapsed": false
   },
   "outputs": [],
   "source": [
    "nilmtk.plots.latexify(fig_width=3.33, fontsize=8, fig_height=1.5)"
   ]
  },
  {
   "cell_type": "code",
   "execution_count": 3,
   "metadata": {
    "collapsed": true
   },
   "outputs": [],
   "source": [
    "dataset = nilmtk.DataSet('/data/mine/vadeec/merged/ukdale.h5')\n",
    "dataset.set_window(\"2014-01-01\", \"2014-03-01\")\n",
    "elec = dataset.buildings[1].elec\n",
    "meter = elec['washing machine']"
   ]
  },
  {
   "cell_type": "code",
   "execution_count": 4,
   "metadata": {
    "collapsed": true
   },
   "outputs": [],
   "source": [
    "activations = meter.get_activations(border=5)"
   ]
  },
  {
   "cell_type": "code",
   "execution_count": null,
   "metadata": {
    "collapsed": false
   },
   "outputs": [],
   "source": [
    "activation = activations[6]\n",
    "print(\"Date =\", activation.index[0])\n",
    "\n",
    "# Create x-axis (minutes)\n",
    "minutes_per_sample = 0.1\n",
    "num_minutes = len(activation) * minutes_per_sample\n",
    "minutes = np.arange(start=0.0, stop=num_minutes, step=minutes_per_sample)[:len(activation)]\n",
    "\n",
    "# Plot\n",
    "fig, ax = plt.subplots()\n",
    "ax.plot(minutes, activation.values / 1000, color='#6495ED', linewidth=0.2, zorder=10)\n",
    "\n",
    "# Format\n",
    "ax.xaxis.set_major_locator(ticker.MultipleLocator(30))\n",
    "ax.set_xlim([0, num_minutes])\n",
    "ax.yaxis.set_major_locator(ticker.MaxNLocator(3))\n",
    "ax = nilmtk.plots.format_axes(ax, spine_color='k')\n",
    "\n",
    "#ax.set_axis_bgcolor((0.95, 0.95, 0.95))\n",
    "#for spine in ['left', 'bottom']:\n",
    "#    ax.spines[spine].set_visible(False)\n",
    "#for axis in [ax.xaxis, ax.yaxis]:\n",
    "#    axis.set_tick_params(color=(.8, .8, .8))\n",
    "\n",
    "#plt.grid(b=True, which='major', color='w', linestyle='-', zorder=0)\n",
    "    \n",
    "ax.set_ylabel('Power (kW)')\n",
    "ax.set_xlabel('Time (minutes)')\n",
    "\n",
    "plt.tight_layout()\n",
    "#plt.subplots_adjust(left=0.0005, bottom=0.05)\n",
    "plt.savefig(\n",
    "    '/home/dk3810/Dropbox/MyWork/imperial/PhD/writing/papers/BuildSys_2015_Neural_NILM/washer.pdf',\n",
    "    bbox_inches='tight',\n",
    "    pad_inches=0)\n",
    "#plt.show()\n",
    "plt.close(fig)"
   ]
  },
  {
   "cell_type": "code",
   "execution_count": null,
   "metadata": {
    "collapsed": true
   },
   "outputs": [],
   "source": []
  }
 ],
 "metadata": {
  "kernelspec": {
   "display_name": "Python 2",
   "language": "python",
   "name": "python2"
  },
  "language_info": {
   "codemirror_mode": {
    "name": "ipython",
    "version": 2
   },
   "file_extension": ".py",
   "mimetype": "text/x-python",
   "name": "python",
   "nbconvert_exporter": "python",
   "pygments_lexer": "ipython2",
   "version": "2.7.9"
  }
 },
 "nbformat": 4,
 "nbformat_minor": 0
}
